{
 "cells": [
  {
   "cell_type": "code",
   "execution_count": 5,
   "id": "986d8734",
   "metadata": {},
   "outputs": [
    {
     "name": "stdout",
     "output_type": "stream",
     "text": [
      "Số tiền khách hàng đã chi tại cửa hàng: 340\n",
      "Khách được giảm giá: 15 $\n",
      "Tổng số tiền khách cần thanh toán: 325.0 $\n"
     ]
    }
   ],
   "source": [
    "a = float(input(\"Số tiền khách hàng đã chi tại cửa hàng: \"))\n",
    "if a < 75:\n",
    "    print(\"Khách không được giảm giá\")\n",
    "    print(\"Tổng số tiền khách cần thanh toán:\",a)\n",
    "elif a >= 75:\n",
    "    print(\"Khách được giảm giá:\",15,\"$\")\n",
    "    print(\"Tổng số tiền khách cần thanh toán:\",a-15,\"$\")\n",
    "elif a >= 100:\n",
    "    print(\"Khách được giảm giá:\",25,\"$\")\n",
    "    print(\"Tổng số tiền khách cần thanh toán:\",a-25,\"$\")\n",
    "elif a >= 150:\n",
    "    print(\"Khách được giảm giá:\",50,\"$\")\n",
    "    print(\"Tổng số tiền khách cần thanh toán:\",a-50,\"$\")"
   ]
  },
  {
   "cell_type": "code",
   "execution_count": null,
   "id": "ddf9dd96",
   "metadata": {},
   "outputs": [],
   "source": []
  }
 ],
 "metadata": {
  "kernelspec": {
   "display_name": "Python 3 (ipykernel)",
   "language": "python",
   "name": "python3"
  },
  "language_info": {
   "codemirror_mode": {
    "name": "ipython",
    "version": 3
   },
   "file_extension": ".py",
   "mimetype": "text/x-python",
   "name": "python",
   "nbconvert_exporter": "python",
   "pygments_lexer": "ipython3",
   "version": "3.10.6"
  }
 },
 "nbformat": 4,
 "nbformat_minor": 5
}
