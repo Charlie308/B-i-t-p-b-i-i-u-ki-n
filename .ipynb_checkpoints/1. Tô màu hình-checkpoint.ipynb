{
 "cells": [
  {
   "cell_type": "code",
   "execution_count": 1,
   "id": "4b76d33f",
   "metadata": {},
   "outputs": [],
   "source": [
    "import turtle\n",
    "import random\n",
    "number = random.uniform(0,3)\n",
    "intNumber = int(number)\n",
    "wn = turtle.Screen()\n",
    "wn.bgcolor(\"black\")\n",
    "wn.title(\"circle\")\n",
    "ball = turtle.Turtle()\n",
    "ball.shape(\"circle\")\n",
    "if intNumber < 10:\n",
    "    ball.color(\"green\")\n",
    "elif intNumber < 20:\n",
    "    ball.color(\"yellow\")\n",
    "elif intNumber < 30:\n",
    "    ball.colot(\"red\")\n",
    "turtle.done()"
   ]
  },
  {
   "cell_type": "code",
   "execution_count": null,
   "id": "0053374c",
   "metadata": {},
   "outputs": [],
   "source": []
  }
 ],
 "metadata": {
  "kernelspec": {
   "display_name": "Python 3 (ipykernel)",
   "language": "python",
   "name": "python3"
  },
  "language_info": {
   "codemirror_mode": {
    "name": "ipython",
    "version": 3
   },
   "file_extension": ".py",
   "mimetype": "text/x-python",
   "name": "python",
   "nbconvert_exporter": "python",
   "pygments_lexer": "ipython3",
   "version": "3.10.6"
  }
 },
 "nbformat": 4,
 "nbformat_minor": 5
}
