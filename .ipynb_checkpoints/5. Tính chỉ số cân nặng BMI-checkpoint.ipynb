{
 "cells": [
  {
   "cell_type": "code",
   "execution_count": 1,
   "id": "f283cef9",
   "metadata": {},
   "outputs": [
    {
     "name": "stdout",
     "output_type": "stream",
     "text": [
      "Nhập vào cân nặng: 70\n",
      "Nhập vào chiềuc cao: 1.68\n",
      "Bình thường\n"
     ]
    }
   ],
   "source": [
    "Weight = float(input(\"Nhập vào cân nặng: \"))\n",
    "Height = float(input(\"Nhập vào chiềuc cao: \"))\n",
    "BMI = Weight/(Height**2)\n",
    "if BMI < 16:\n",
    "    print(\"Gầy cấp độ III\")\n",
    "elif BMI <= 17:\n",
    "    print(\"Gầy cấp độ II\")\n",
    "elif BMI <= 18.5:\n",
    "    print(\"Gầy cấp độ I\")\n",
    "elif BMI <= 25:\n",
    "    print(\"Bình thường\")\n",
    "elif BMI <= 30:\n",
    "    print(\"Thừa cân\")\n",
    "elif BMI <= 35:\n",
    "    print(\"Béo phì cấp độ I\")\n",
    "elif BMI <= 40:\n",
    "    print(\"Béo phì cấp độ II\")\n",
    "elif BMI > 40:\n",
    "    print(\"Béo phì cấp độ III\")"
   ]
  },
  {
   "cell_type": "code",
   "execution_count": null,
   "id": "6adbb9be",
   "metadata": {},
   "outputs": [],
   "source": []
  }
 ],
 "metadata": {
  "kernelspec": {
   "display_name": "Python 3 (ipykernel)",
   "language": "python",
   "name": "python3"
  },
  "language_info": {
   "codemirror_mode": {
    "name": "ipython",
    "version": 3
   },
   "file_extension": ".py",
   "mimetype": "text/x-python",
   "name": "python",
   "nbconvert_exporter": "python",
   "pygments_lexer": "ipython3",
   "version": "3.10.6"
  }
 },
 "nbformat": 4,
 "nbformat_minor": 5
}
