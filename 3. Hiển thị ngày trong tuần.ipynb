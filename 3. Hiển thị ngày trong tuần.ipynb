{
 "cells": [
  {
   "cell_type": "code",
   "execution_count": 3,
   "id": "12467194",
   "metadata": {},
   "outputs": [
    {
     "name": "stdout",
     "output_type": "stream",
     "text": [
      "Nhập vào 1 số từ 1-7: 9\n",
      "Nhập vào lại số từ 1-7: 8\n",
      "Nhập vào lại số từ 1-7: 2\n",
      "Thứ 3\n"
     ]
    }
   ],
   "source": [
    "a = float(input(\"Nhập vào 1 số từ 1-7: \"))\n",
    "while a <1 or a > 7:\n",
    "    a = float(input(\"Nhập vào lại số từ 1-7: \"))\n",
    "if a == 1:\n",
    "    print(\"Thứ 2\")\n",
    "elif a == 2:\n",
    "    print(\"Thứ 3\")\n",
    "elif a == 3:\n",
    "    print(\"Thứ 4\")\n",
    "elif a == 4:\n",
    "    print(\"Thứ 5\")\n",
    "elif a == 5:\n",
    "    print(\"Thứ 6\")\n",
    "elif a == 6:\n",
    "    print(\"Thứ 7\")\n",
    "elif a == 7:\n",
    "    print(\"Chủ nhật\")\n"
   ]
  }
 ],
 "metadata": {
  "kernelspec": {
   "display_name": "Python 3 (ipykernel)",
   "language": "python",
   "name": "python3"
  },
  "language_info": {
   "codemirror_mode": {
    "name": "ipython",
    "version": 3
   },
   "file_extension": ".py",
   "mimetype": "text/x-python",
   "name": "python",
   "nbconvert_exporter": "python",
   "pygments_lexer": "ipython3",
   "version": "3.10.6"
  }
 },
 "nbformat": 4,
 "nbformat_minor": 5
}
